{
 "cells": [
  {
   "cell_type": "code",
   "execution_count": 1,
   "metadata": {},
   "outputs": [],
   "source": [
    "import numpy as np"
   ]
  },
  {
   "cell_type": "code",
   "execution_count": 2,
   "metadata": {},
   "outputs": [],
   "source": [
    "epsilon = 1e-4\n",
    "M = 100\n",
    "K = 50\n",
    "D = 30\n",
    "N = 10\n",
    "nCheck = 1000"
   ]
  },
  {
   "cell_type": "code",
   "execution_count": 3,
   "metadata": {},
   "outputs": [],
   "source": [
    "def sigmoid(x):\n",
    "    return 1 / (1+np.exp(-x))"
   ]
  },
  {
   "cell_type": "code",
   "execution_count": 4,
   "metadata": {},
   "outputs": [],
   "source": [
    "def forwardprop(x, t, A, S, W):\n",
    "    \n",
    "    # ---------- make your implementation here -------------\n",
    "    y = 0\n",
    "    z = 0\n",
    "    P = 0\n",
    "    J = 0\n",
    "    # -------------------------------------------------\n",
    "    \n",
    "    return y, z, P, J"
   ]
  },
  {
   "cell_type": "code",
   "execution_count": 5,
   "metadata": {},
   "outputs": [],
   "source": [
    "def backprop(x, t, A, S, W):\n",
    "\n",
    "    y, z, P, J = forwardprop(x, t, A, S, W)\n",
    "    I = np.zeros((N, 1), dtype=np.float)\n",
    "    I[t] = 1\n",
    "\n",
    "    # ---------- make your implementation here -------------\n",
    "    grad_W = 0\n",
    "    grad_S = 0\n",
    "    grad_A = 0\n",
    "    # -------------------------------------------------\n",
    "\n",
    "    return grad_A, grad_S, grad_W"
   ]
  },
  {
   "cell_type": "code",
   "execution_count": 10,
   "metadata": {},
   "outputs": [],
   "source": [
    "def gradient_check():\n",
    "\n",
    "    A = np.random.rand(K, M+1)*0.1-0.05\n",
    "    S = np.random.rand(D, K+1)*0.1-0.05\n",
    "    W = np.random.rand(N, D+1)*0.1-0.05\n",
    "    x, t = np.random.rand(M, 1)*0.1-0.05, np.random.choice(range(N), 1)[0]\n",
    "\n",
    "    grad_A, grad_S, grad_W = backprop(x, t, A, S, W)\n",
    "    errA, errS, errW = [], [], []\n",
    "    \n",
    "    for i in range(nCheck):\n",
    "\n",
    "        # ---------- make your implementation here -------------\n",
    "        idx_x, idx_y = 0, 0\n",
    "        # numerical gradient at (idx_x, idx_y)\n",
    "        numerical_grad_A = 0\n",
    "        errA.append(np.abs(grad_A[idx_x, idx_y] - numerical_grad_A))\n",
    "        \n",
    "        idx_x, idx_y = 0, 0\n",
    "        # numerical gradient at (idx_x, idx_y)\n",
    "        numerical_grad_S = 0\n",
    "        errS.append(np.abs(grad_S[idx_x, idx_y] - numerical_grad_S))\n",
    "        \n",
    "        idx_x, idx_y = 0, 0\n",
    "        # numerical gradient at (idx_x, idx_y)\n",
    "        numerical_grad_W = 0\n",
    "        errW.append(np.abs(grad_W[idx_x, idx_y] - numerical_grad_W))\n",
    "        # -------------------------------------------------\n",
    "\n",
    "    print 'Gradient checking A, MAE: %.8f' % np.mean(errA)\n",
    "    print 'Gradient checking S, MAE: %.8f' % np.mean(errS)\n",
    "    print 'Gradient checking W, MAE: %.8f' % np.mean(errW)"
   ]
  },
  {
   "cell_type": "code",
   "execution_count": null,
   "metadata": {},
   "outputs": [],
   "source": [
    "gradient_check()"
   ]
  }
 ],
 "metadata": {
  "kernelspec": {
   "display_name": "Python 2",
   "language": "python",
   "name": "python2"
  },
  "language_info": {
   "codemirror_mode": {
    "name": "ipython",
    "version": 2.0
   },
   "file_extension": ".py",
   "mimetype": "text/x-python",
   "name": "python",
   "nbconvert_exporter": "python",
   "pygments_lexer": "ipython2",
   "version": "2.7.11"
  }
 },
 "nbformat": 4,
 "nbformat_minor": 0
}